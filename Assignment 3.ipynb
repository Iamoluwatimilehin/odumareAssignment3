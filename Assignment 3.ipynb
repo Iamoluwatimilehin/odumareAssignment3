{
 "cells": [
  {
   "cell_type": "markdown",
   "metadata": {},
   "source": [
    "Task 1: Creating and Manipulating Arrays"
   ]
  },
  {
   "cell_type": "code",
   "execution_count": 2,
   "metadata": {},
   "outputs": [],
   "source": [
    "import numpy as np"
   ]
  },
  {
   "cell_type": "code",
   "execution_count": 3,
   "metadata": {},
   "outputs": [
    {
     "name": "stdout",
     "output_type": "stream",
     "text": [
      "[ 1  2  3  4  5  6  7  8  9 10]\n"
     ]
    }
   ],
   "source": [
    "my_array = np.array([1,2,3,4,5,6,7,8,9,10])\n",
    "print(my_array)"
   ]
  },
  {
   "cell_type": "code",
   "execution_count": 6,
   "metadata": {},
   "outputs": [
    {
     "name": "stdout",
     "output_type": "stream",
     "text": [
      "[[20 15 18  1]\n",
      " [ 6  3  6 19]\n",
      " [ 4  2  2 19]]\n"
     ]
    }
   ],
   "source": [
    "random_array = np.random.randint(1, 21, size=(3,4))\n",
    "print(random_array)"
   ]
  },
  {
   "cell_type": "code",
   "execution_count": 8,
   "metadata": {},
   "outputs": [
    {
     "name": "stdout",
     "output_type": "stream",
     "text": [
      "Reshaped array (4,3): \n",
      " [[20 15 18]\n",
      " [ 1  6  3]\n",
      " [ 6 19  4]\n",
      " [ 2  2 19]]\n"
     ]
    }
   ],
   "source": [
    "reshaped_array = random_array.reshape(4,3)\n",
    "print(\"Reshaped array (4,3): \\n\", reshaped_array)"
   ]
  },
  {
   "cell_type": "code",
   "execution_count": 10,
   "metadata": {},
   "outputs": [
    {
     "name": "stdout",
     "output_type": "stream",
     "text": [
      "1D array : [20 15 18  1  6  3  6 19  4  2  2 19]\n"
     ]
    }
   ],
   "source": [
    "flattened_array = random_array.flatten()\n",
    "print(\"1D array :\", flattened_array)"
   ]
  },
  {
   "cell_type": "code",
   "execution_count": 11,
   "metadata": {},
   "outputs": [
    {
     "name": "stdout",
     "output_type": "stream",
     "text": [
      "[20 15 18  1  6]\n"
     ]
    }
   ],
   "source": [
    "first_five = flattened_array[:5]\n",
    "print(first_five)"
   ]
  },
  {
   "cell_type": "code",
   "execution_count": 14,
   "metadata": {},
   "outputs": [
    {
     "name": "stdout",
     "output_type": "stream",
     "text": [
      "[[0. 0. 0.]\n",
      " [0. 0. 0.]]\n"
     ]
    }
   ],
   "source": [
    "zero_array = np.zeros((2, 3))\n",
    "print(zero_array)"
   ]
  },
  {
   "cell_type": "code",
   "execution_count": 15,
   "metadata": {},
   "outputs": [
    {
     "name": "stdout",
     "output_type": "stream",
     "text": [
      "[[1. 1.]\n",
      " [1. 1.]\n",
      " [1. 1.]]\n"
     ]
    }
   ],
   "source": [
    "ones_array = np.ones((3, 2))\n",
    "print(ones_array)"
   ]
  },
  {
   "cell_type": "markdown",
   "metadata": {},
   "source": [
    "Task 2: Array Operations"
   ]
  },
  {
   "cell_type": "code",
   "execution_count": 6,
   "metadata": {},
   "outputs": [
    {
     "name": "stdout",
     "output_type": "stream",
     "text": [
      "[ 5  7  9 11]\n",
      "\n",
      " [-3 -3 -3 -3]\n",
      "\n",
      " [ 4 10 18 28]\n",
      "\n",
      " [0.25       0.4        0.5        0.57142857]\n"
     ]
    }
   ],
   "source": [
    "array_1 = np.array([1,2,3,4])\n",
    "array_2 = np.array([4,5,6,7])\n",
    "\n",
    "#addition\n",
    "addition_array = array_1 + array_2\n",
    "print(addition_array)\n",
    "\n",
    "#subtraction\n",
    "sub_array = array_1 - array_2\n",
    "print(\"\\n\", sub_array)\n",
    "\n",
    "#multiplication\n",
    "multiply_array = array_1 * array_2\n",
    "print(\"\\n\", multiply_array)\n",
    "\n",
    "#division\n",
    "divide_array = array_1 / array_2\n",
    "print(\"\\n\", divide_array)"
   ]
  },
  {
   "cell_type": "code",
   "execution_count": 7,
   "metadata": {},
   "outputs": [
    {
     "name": "stdout",
     "output_type": "stream",
     "text": [
      "[[19 22]\n",
      " [43 50]]\n"
     ]
    }
   ],
   "source": [
    "array1 = np.array([[1, 2], [3, 4]])\n",
    "array2 = np.array([[5, 6], [7, 8]])\n",
    "\n",
    "dot_product = np.dot(array1, array2)\n",
    "print(dot_product)"
   ]
  },
  {
   "cell_type": "code",
   "execution_count": 8,
   "metadata": {},
   "outputs": [
    {
     "name": "stdout",
     "output_type": "stream",
     "text": [
      "[[1. 0. 0.]\n",
      " [0. 1. 0.]\n",
      " [0. 0. 1.]]\n"
     ]
    }
   ],
   "source": [
    "idenrity_matrix = np.eye(3)\n",
    "print(idenrity_matrix)"
   ]
  },
  {
   "cell_type": "code",
   "execution_count": 9,
   "metadata": {},
   "outputs": [
    {
     "name": "stdout",
     "output_type": "stream",
     "text": [
      "\n",
      " 352 \n",
      " 35.2 \n",
      " 30.7889590600267 \n",
      " 947.96\n"
     ]
    }
   ],
   "source": [
    "data = np.random.randint(1, 100, size=(10))\n",
    "\n",
    "total_sum = np.sum(data)\n",
    "on_average = np.mean(data)\n",
    "std_dev = np.std(data)\n",
    "variance = np.var(data)\n",
    "\n",
    "print(\"\\n\", total_sum, \"\\n\", on_average, \"\\n\", std_dev, \"\\n\", variance)"
   ]
  },
  {
   "cell_type": "markdown",
   "metadata": {},
   "source": [
    "Task 3: Boolean Indexing and Filtering\n"
   ]
  },
  {
   "cell_type": "code",
   "execution_count": 11,
   "metadata": {},
   "outputs": [
    {
     "name": "stdout",
     "output_type": "stream",
     "text": [
      "[ 3 26  9 23 48 26  6  7 49  6 44 48 16  1 33]\n"
     ]
    }
   ],
   "source": [
    "oneD_array = np.random.randint(0,51, size=(15))\n",
    "print(oneD_array)"
   ]
  },
  {
   "cell_type": "code",
   "execution_count": 13,
   "metadata": {},
   "outputs": [
    {
     "name": "stdout",
     "output_type": "stream",
     "text": [
      "[26 48 26 49 44 48 33]\n"
     ]
    }
   ],
   "source": [
    "mask = oneD_array > 25\n",
    "\n",
    "masked_array = oneD_array[mask]\n",
    "print(masked_array)"
   ]
  },
  {
   "cell_type": "code",
   "execution_count": 15,
   "metadata": {},
   "outputs": [
    {
     "name": "stdout",
     "output_type": "stream",
     "text": [
      "[10 10 10 10 10 10 10 10 10 10 10 10 10 10 10]\n"
     ]
    }
   ],
   "source": [
    "oneD_array[oneD_array < 10] = 10\n",
    "print(oneD_array)"
   ]
  },
  {
   "cell_type": "markdown",
   "metadata": {},
   "source": [
    "Task 4: Advanced Operations\n"
   ]
  },
  {
   "cell_type": "code",
   "execution_count": 17,
   "metadata": {},
   "outputs": [
    {
     "name": "stdout",
     "output_type": "stream",
     "text": [
      "[[33 34 77  3 52]\n",
      " [40  5 11 66 63]\n",
      " [54 15 39 56  3]\n",
      " [29 58 69 82 48]\n",
      " [25 84 77  6  7]] \n",
      " 3 \n",
      " 84\n"
     ]
    }
   ],
   "source": [
    "matrix = np.random.randint(0, 100, size= (5, 5))\n",
    "\n",
    "min_matrix = np.min(matrix)\n",
    "max_matrix = np.max(matrix)\n",
    "\n",
    "print(matrix, \"\\n\", min_matrix, \"\\n\", max_matrix)"
   ]
  },
  {
   "cell_type": "code",
   "execution_count": 19,
   "metadata": {},
   "outputs": [
    {
     "name": "stdout",
     "output_type": "stream",
     "text": [
      "[199 185 167 286 199] \n",
      " [181 196 273 213 173]\n"
     ]
    }
   ],
   "source": [
    "row_side = np.sum(matrix, axis=1)\n",
    "column_side = np.sum(matrix, axis=0)\n",
    "print(row_side, \"\\n\", column_side)"
   ]
  },
  {
   "cell_type": "code",
   "execution_count": 22,
   "metadata": {},
   "outputs": [
    {
     "name": "stdout",
     "output_type": "stream",
     "text": [
      "Vertical stack:\n",
      " [[1 2 3]\n",
      " [4 5 6]\n",
      " [7 8 9]\n",
      " [3 4 6]]\n",
      "Horizontal stack:\n",
      " [[1 2 3 7 8 9]\n",
      " [4 5 6 3 4 6]]\n"
     ]
    }
   ],
   "source": [
    "arrayOne = np.array([[1,2,3],[4,5,6]])\n",
    "arrayTwo = np.array([[7,8,9],[3,4,6]])\n",
    "\n",
    "vertical_stack = np.vstack((arrayOne, arrayTwo))\n",
    "horizontal_stack = np.hstack((arrayOne, arrayTwo))\n",
    "\n",
    "print(\"Vertical stack:\\n\", vertical_stack)\n",
    "print(\"Horizontal stack:\\n\", horizontal_stack)"
   ]
  }
 ],
 "metadata": {
  "kernelspec": {
   "display_name": "Python 3",
   "language": "python",
   "name": "python3"
  },
  "language_info": {
   "codemirror_mode": {
    "name": "ipython",
    "version": 3
   },
   "file_extension": ".py",
   "mimetype": "text/x-python",
   "name": "python",
   "nbconvert_exporter": "python",
   "pygments_lexer": "ipython3",
   "version": "3.12.4"
  }
 },
 "nbformat": 4,
 "nbformat_minor": 2
}
